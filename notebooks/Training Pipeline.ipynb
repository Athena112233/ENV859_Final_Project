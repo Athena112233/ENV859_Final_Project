{
 "cells": [
  {
   "cell_type": "code",
   "execution_count": 6,
   "id": "8c91335e",
   "metadata": {},
   "outputs": [],
   "source": [
    "import os\n",
    "import sys\n",
    "import numpy as np\n",
    "import matplotlib\n",
    "import pandas as pd\n",
    "import geopandas as gpd\n",
    "import json\n",
    "import pickle\n",
    "import xgboost\n",
    "import torch\n",
    "import pickle\n",
    "\n",
    "#import arcpy"
   ]
  },
  {
   "cell_type": "code",
   "execution_count": 4,
   "id": "0bb6baac",
   "metadata": {},
   "outputs": [],
   "source": [
    "# get inputs from user interface 1\n",
    "\n",
    "# input: list of file_names\n",
    "# [target_feature_class, raster1, raster2, raster3, ...]\n",
    "def clean_data():\n",
    "    pass\n",
    "\n",
    "def preprocess_data():\n",
    "    pass\n",
    "\n",
    "def build_model():\n",
    "    # build xgboost model\n",
    "    \n",
    "    # build feed-forward neural net model\n",
    "    \n",
    "    pass\n",
    "    "
   ]
  },
  {
   "cell_type": "code",
   "execution_count": null,
   "id": "8b827696",
   "metadata": {},
   "outputs": [],
   "source": [
    "if __name__ == \"__main__\":\n",
    "    file_inputs = json.loads(sys.argv[0])"
   ]
  }
 ],
 "metadata": {
  "kernelspec": {
   "display_name": "Python 3 (ipykernel)",
   "language": "python",
   "name": "python3"
  },
  "language_info": {
   "codemirror_mode": {
    "name": "ipython",
    "version": 3
   },
   "file_extension": ".py",
   "mimetype": "text/x-python",
   "name": "python",
   "nbconvert_exporter": "python",
   "pygments_lexer": "ipython3",
   "version": "3.10.6"
  }
 },
 "nbformat": 4,
 "nbformat_minor": 5
}
